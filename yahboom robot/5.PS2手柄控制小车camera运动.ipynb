{
 "cells": [
  {
   "cell_type": "markdown",
   "metadata": {},
   "source": [
    "<center><img src=\"../logo.png\" alt=\"Header\" style=\"width: 800px;\"/></center>"
   ]
  },
  {
   "cell_type": "markdown",
   "metadata": {},
   "source": [
    "\n",
    "@Copyright (C): 2010-2020, Shenzhen Yahboom Tech  \n",
    "@Author: Liusen  \n",
    "@Date: 2020-02-04 15:03:02  \n",
    "@LastEditors: Liusen  \n",
    "@LastEditTime: 2020-02-04 15:03:02   "
   ]
  },
  {
   "cell_type": "markdown",
   "metadata": {},
   "source": [
    "以下主要用说明： \n",
    "  \n",
    "  建议我们用模拟模式，进入模拟模式按下手柄ANALOG按键，对应下面的红灯亮表示进入成功。\n",
    "\n",
    "\n",
    "上图滑竿0-9表示的是模拟值：取值方法：controller.axes[0].value = -1.0 ~ 1.0  \n",
    "上图方块0-11表示的按键的Bool值：取值方法： controller.buttons[0].value = True / False  \n",
    "\n"
   ]
  },
  {
   "cell_type": "code",
   "execution_count": 24,
   "metadata": {},
   "outputs": [
    {
     "name": "stdout",
     "output_type": "stream",
     "text": [
      "serial Open!\n",
      "serial Close!\n"
     ]
    },
    {
     "data": {
      "application/vnd.jupyter.widget-view+json": {
       "model_id": "c88a9575d9804791a995d4c3fa9af823",
       "version_major": 2,
       "version_minor": 0
      },
      "text/plain": [
       "Controller()"
      ]
     },
     "metadata": {},
     "output_type": "display_data"
    }
   ],
   "source": [
    "from Raspblock import Raspblock\n",
    "import ipywidgets.widgets as widgets\n",
    "import time\n",
    "\n",
    "# 线程功能操作库\n",
    "import threading\n",
    "import inspect\n",
    "import ctypes\n",
    "import matplotlib.pyplot as plt\n",
    "\n",
    "\n",
    "robot = Raspblock()\n",
    "# joystick is a widgets of jpuyter\n",
    "controller = widgets.Controller(index=0)  #用上面手柄检测方法，网页测试出来的索引号替代\n",
    "display(controller)                       #显示手柄控件\n",
    "\n"
   ]
  },
  {
   "cell_type": "code",
   "execution_count": 25,
   "metadata": {},
   "outputs": [],
   "source": [
    "def _async_raise(tid, exctype):\n",
    "    \"\"\"raises the exception, performs cleanup if needed\"\"\"\n",
    "    tid = ctypes.c_long(tid)\n",
    "    if not inspect.isclass(exctype):\n",
    "        exctype = type(exctype)\n",
    "    res = ctypes.pythonapi.PyThreadState_SetAsyncExc(tid, ctypes.py_object(exctype))\n",
    "    if res == 0:\n",
    "        raise ValueError(\"invalid thread id\")\n",
    "    elif res != 1:\n",
    "        # \"\"\"if it returns a number greater than one, you're in trouble,\n",
    "        # and you should call it again with exc=NULL to revert the effect\"\"\"\n",
    "        ctypes.pythonapi.PyThreadState_SetAsyncExc(tid, None)\n",
    "        \n",
    "def stop_thread(thread):\n",
    "    _async_raise(thread.ident, SystemExit)"
   ]
  },
  {
   "cell_type": "code",
   "execution_count": 26,
   "metadata": {},
   "outputs": [],
   "source": [
    "'''以下是舵机控制的部分    '''\n",
    "global leftrightpulse\n",
    "leftrightpulse = 1500\n",
    "global updownpulse\n",
    "updownpulse = 1500\n",
    "\n",
    "def camUpFunction():\n",
    "    global updownpulse\n",
    "    updownpulse+=10\n",
    "    if updownpulse>2500:\n",
    "        updownpulse=2500\n",
    "    robot.Servo_control(leftrightpulse, updownpulse)\n",
    "\n",
    "def camDownFunction():\n",
    "    global updownpulse\n",
    "    updownpulse-=10\n",
    "    if updownpulse<500:\n",
    "        updownpulse=500\n",
    "    robot.Servo_control(leftrightpulse, updownpulse)\n",
    "\n",
    "def camLeftFunction():\n",
    "    global leftrightpulse\n",
    "    leftrightpulse+=10\n",
    "    if leftrightpulse>2500:\n",
    "        leftrightpulse=2500\n",
    "    robot.Servo_control(leftrightpulse, updownpulse)\n",
    "\n",
    "def camRightFunction():\n",
    "    global leftrightpulse\n",
    "    leftrightpulse-=10\n",
    "    if leftrightpulse<500:\n",
    "        leftrightpulse=500\n",
    "    robot.Servo_control(leftrightpulse, updownpulse)\n",
    "\n",
    "def camservoInitFunction():\n",
    "    global leftrightpulse, updownpulse\n",
    "    leftrightpulse = 1500\n",
    "    updownpulse = 1500\n",
    "    robot.Servo_control(leftrightpulse, updownpulse)"
   ]
  },
  {
   "cell_type": "code",
   "execution_count": 27,
   "metadata": {},
   "outputs": [],
   "source": [
    "def Remote_thread():\n",
    "    Speed_axis_X = 0\n",
    "    Speed_axis_Y = 0\n",
    "    Speed_axis_Z = 0\n",
    "\n",
    "    count1 = count2 = count3 = count4 =  count5 = count6 = count7 = 0\n",
    "    while 1:\n",
    "        #手柄操作代码---(亚博配手柄) for car, axes[0]: -left +right, axes[1]: +up -down\n",
    "        if(abs(controller.axes[0].value) >= 0.01 or abs(controller.axes[1].value) >= 0.01):\n",
    "            count4 += 1\n",
    "            if(count4 >= 1):\n",
    "                Speed_axis_X = int(controller.axes[0].value * 4)\n",
    "                Speed_axis_Y = -int(controller.axes[1].value * 4)\n",
    "                robot.Speed_axis_Yawhold_control(Speed_axis_X,Speed_axis_Y)\n",
    "                count4 = 0\n",
    "        time.sleep(0.01)\n",
    "        \n",
    "        #蜂鸣器控制：数字1按键\n",
    "        if controller.buttons[0].value == True:\n",
    "            robot.Buzzer_control(1) \n",
    "        else:\n",
    "            robot.Buzzer_control(0)\n",
    "            \n",
    "        #摄像头上下舵机： 右摇杆上下\n",
    "        # axes[2] left right, axes[3] up down\n",
    "        # yahboom's original source code misplace the [2] and [3]\n",
    "        # mark by wang yong 2023.11.28\n",
    "        if controller.axes[3].value == -1:\n",
    "            count1  += 1\n",
    "            if count1 >= 1:\n",
    "                camDownFunction()\n",
    "                count1 = 0\n",
    "        elif controller.axes[3].value == 1:\n",
    "            count1  += 1\n",
    "            if count1 >= 1:\n",
    "                camUpFunction()\n",
    "                count1 = 0\n",
    "        else:\n",
    "            count1 = 0\n",
    "        \n",
    "        #摄像头左右舵机    右摇杆左右\n",
    "        # if controller.axes[5].value == 1:  why [5]? the largest axes is 3\n",
    "        # sometime it shows 8 axes, the up down is on axes[5]\n",
    "        if controller.axes[2].value == 1:    \n",
    "            count2  += 1\n",
    "            if count2 >= 1:\n",
    "                camRightFunction()\n",
    "                count2 = 0\n",
    "        # elif controller.axes[5].value == -1:\n",
    "        elif controller.axes[2].value == -1:\n",
    "            count2  += 1\n",
    "            if count2 >= 1:\n",
    "                camLeftFunction()\n",
    "                count2 = 0\n",
    "        else:\n",
    "            count2 = 0\n",
    "        \n",
    "        #摄像头上下左右舵机 复位： 右摇杆按下\n",
    "        if controller.buttons[11].value == True:\n",
    "            count3 += 1\n",
    "            if count3 >= 1:\n",
    "                camservoInitFunction()\n",
    "                count3 = 0\n",
    "        else:\n",
    "            count3 = 0\n",
    "            \n",
    "        #自旋：数字4（左旋） 数字2（右旋）\n",
    "        if controller.buttons[3].value == True:\n",
    "            count6 += 1\n",
    "            if count6 >= 3:\n",
    "                robot.Speed_axis_control(0,0,-15)\n",
    "                count6 = 0\n",
    "        elif controller.buttons[1].value == True:\n",
    "            count6 += 1\n",
    "            if count6 >= 3:\n",
    "                robot.Speed_axis_control(0,0,15)\n",
    "                count6 = 0\n",
    "        else:\n",
    "            count6 = 0\n",
    "            \n",
    "        time.sleep(0.01)\n",
    "def stop_thread(thread):\n",
    "    _async_raise(thread.ident, SystemExit)"
   ]
  },
  {
   "cell_type": "code",
   "execution_count": 28,
   "metadata": {},
   "outputs": [],
   "source": [
    "thread = threading.Thread(target=Remote_thread)\n",
    "thread.setDaemon(True)\n",
    "thread.start()"
   ]
  },
  {
   "cell_type": "code",
   "execution_count": 17,
   "metadata": {},
   "outputs": [
    {
     "name": "stdout",
     "output_type": "stream",
     "text": [
      "start joystick\n"
     ]
    }
   ],
   "source": [
    "print(\"start joystick\")"
   ]
  },
  {
   "cell_type": "code",
   "execution_count": 18,
   "metadata": {},
   "outputs": [
    {
     "name": "stdout",
     "output_type": "stream",
     "text": [
      "serial Close!\n"
     ]
    }
   ],
   "source": [
    "stop_thread(thread)\n",
    "del robot"
   ]
  },
  {
   "cell_type": "code",
   "execution_count": null,
   "metadata": {},
   "outputs": [],
   "source": []
  }
 ],
 "metadata": {
  "kernelspec": {
   "display_name": "Python 3",
   "language": "python",
   "name": "python3"
  },
  "language_info": {
   "codemirror_mode": {
    "name": "ipython",
    "version": 3
   },
   "file_extension": ".py",
   "mimetype": "text/x-python",
   "name": "python",
   "nbconvert_exporter": "python",
   "pygments_lexer": "ipython3",
   "version": "3.7.3"
  }
 },
 "nbformat": 4,
 "nbformat_minor": 4
}
